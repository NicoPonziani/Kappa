{
 "cells": [
  {
   "cell_type": "markdown",
   "id": "c8b0ad1e",
   "metadata": {},
   "source": [
    "### **<span style=\"color:#0000CC;\">FUNZIONI</span>**\n",
    "\n",
    "#### ***<span style=\"color:#D19A66;\">LE BASI DI UNA FUNZIONE SONO CHE ...<span>***\n",
    "- Sono porzioni di codice riutilizzabile\n",
    "- Possono accettare parametri in input\n",
    "- Possono restituire un valore *(undefined se non c'è il return)*\n"
   ]
  },
  {
   "cell_type": "code",
   "execution_count": null,
   "id": "490e1692",
   "metadata": {},
   "outputs": [],
   "source": [
    "function func(array,type){ //parametri \n",
    "    if(!func.first){\n",
    "        func.first=true;\n",
    "        console.log(`valore di array: ${array}`); //il valore di array viene definito nel momento in cui si richiama la funzione\n",
    "        console.log(`valore di type: ${type}`);  //stessa cosa per type\n",
    "    }\n",
    "\n",
    "    let resp = []\n",
    "    for(let elem of array){\n",
    "        if(typeof elem === type){\n",
    "            resp.push(elem);\n",
    "        }\n",
    "    }\n",
    "\n",
    "    return resp; //Valore restituito\n",
    "}"
   ]
  },
  {
   "cell_type": "markdown",
   "id": "5425c264",
   "metadata": {},
   "source": [
    "Per eseguire una funzione dobbiamo utilizzare il suo nome con le parantesi tonde comprensive di parametri"
   ]
  },
  {
   "cell_type": "code",
   "execution_count": null,
   "id": "4f6443e5",
   "metadata": {},
   "outputs": [],
   "source": [
    "let res = func([\"Stringa\",3,true,{nome:\"Nick\"},\"Stringa2\"], \"string\");\n",
    "console.log(`---------------\\n\\nValore restituito da func: \\n${res}`);"
   ]
  },
  {
   "cell_type": "markdown",
   "id": "6f3cf6a5",
   "metadata": {},
   "source": [
    "Quando richiamiamo una funzione dobbiamo sostituire i parametri dichiarati (array,type) con i valori effettivi\n",
    "\n",
    "***Questo è l'equivalente a fare***:   \n",
    "```javascript\n",
    "- array= [\"Stringa\",3,true,{nome:\"Nick\"},\"Stringa2\"]\n",
    "- type= \"string\"\n",
    "```\n",
    "\n",
    "Infatti noi all'interno della funzione ci dobbiamo basare su una previsione dei valori passati, nel senso che non sappiamo esattamente quale sarà il valore effettivo passato ma possiamo dedurre dal nome piu o meno di cosa si tratta *(specialmente se abbiamo dichiarato noi la funzione)*"
   ]
  },
  {
   "cell_type": "markdown",
   "id": "42366b6c",
   "metadata": {},
   "source": [
    "E ***'let res'*** cosa è? \n",
    "\n",
    "è semplicemente una variabile.\n",
    "Quando una funzione ritorna un valore vuol dire che scrivere questo:\n",
    "\n",
    "```javascript\n",
    "func([\"Stringa\",3,true,{nome:\"Nick\"},\"Stringa2\"], \"string\");\n",
    "                    EQUIVALE A SCRIVERE\n",
    "['Stringa', 'Stringa2']\n",
    "```\n",
    "Ovvero il risultato della funzione. *(il valore che sta subito dopo il return)*\n",
    "\n",
    "Quindi se vogliamo utilizzare il valore che viene restituito dalla funzione ***conviene*** salvarlo all'interno di una variabile\n",
    "in modo tale che abbiamo quel valore sempre a disposizione per poterlo riutilizzare."
   ]
  },
  {
   "cell_type": "markdown",
   "id": "e42c2e04",
   "metadata": {},
   "source": [
    "---"
   ]
  },
  {
   "cell_type": "markdown",
   "id": "2e264be6",
   "metadata": {},
   "source": [
    "#### ***<span style=\"color:#D19A66;\">LE FUNZIONI SONO DEI VALORI...<span>***\n",
    "\n",
    "Un'altra cosa da tenere a mente è che le funzioni di per se sono già dei valori.\n",
    "\n",
    "Infatti <span style=\"color: blue\">***Function***</span> fa parte dei tipi di dati presenti in Javascript."
   ]
  },
  {
   "cell_type": "code",
   "execution_count": null,
   "id": "e27240e7",
   "metadata": {},
   "outputs": [],
   "source": [
    "let typeOfFunc = typeof func; //function\n",
    "console.log(typeOfFunc); "
   ]
  },
  {
   "cell_type": "markdown",
   "id": "57ffcde4",
   "metadata": {},
   "source": [
    "### <span style=\"color: red\">**⚠️Nota bene⚠️**</span>\n",
    "<div style=\"background-color:#333C4D; padding:10px; border-left:6px solid #FFA500; border-radius:5px;\">\n",
    "\n",
    "ho scritto:\n",
    "```javascript\n",
    "    func\n",
    "```\n",
    "non:\n",
    "```javascript\n",
    "    func([],\"\");\n",
    "```\n",
    "\n",
    "Quando scrivi solo il nome della funzione fai riferimento ad essa come <u>***oggetto funzione***</u> e non come ciò che <u>***restituisce (return)***</u>.\n",
    "\n",
    "Quando eseguiamo una funzione (con le parentesi tonde ) `func()` stiamo eseguendo il codice interno `{...}` e quello che otteniamo è il valore del `return` *(o undefined se non c'è)*.\n",
    "\n",
    "Ma se usiamo solo il nome (senza le parentesi tonde) `func` stiamo facendo riferimento alla funzione stessa come oggetto.\n",
    "</div>"
   ]
  },
  {
   "cell_type": "code",
   "execution_count": null,
   "id": "6b36c669",
   "metadata": {},
   "outputs": [],
   "source": [
    "let funcObj = func;\n",
    "let funcReturn = func([1,true,3,\"4\"],\"number\");\n",
    "\n",
    "console.log(`Valore di funcObj: \\n${funcObj}\\n--------------------\\n\\nValore di funcReturn\\n${funcReturn}`) //!!TOGLI IL COMMENTO!!//"
   ]
  },
  {
   "cell_type": "markdown",
   "id": "6a2497c9",
   "metadata": {},
   "source": [
    "---"
   ]
  },
  {
   "cell_type": "markdown",
   "id": "e9914f49",
   "metadata": {},
   "source": [
    "#### ***<span style=\"color:#D19A66;\">ARROW FUNCTION & ANONYMOUS FUNCTION<span>***\n",
    "\n",
    "Ora che sappiamo che le funzioni sono dei ***VALORI*** parliamo delle funzioni anonime e delle arrow function."
   ]
  },
  {
   "cell_type": "code",
   "execution_count": null,
   "id": "487aab7a",
   "metadata": {},
   "outputs": [],
   "source": [
    "let funcAnonima = function(a,b){return a+b;}  // FUNZIONE ANONIMA\n",
    "let funcArrow = (a,b) => a+b;                 // FUNZIONE FRECCIA\n",
    "console.log(`Funzione anonima: \\n${funcAnonima}\\n-------------------\\n\\nFunzione freccia: \\n${funcArrow}`);"
   ]
  },
  {
   "cell_type": "markdown",
   "id": "b5edd465",
   "metadata": {},
   "source": [
    "A differenza delle funzioni normali (Quelle ***NOMINATIVE***) le funzioni freccia e quelle anonime sono solo dei valori.\n",
    "\n",
    "Quando dichiari una funzione normale, gli diamo un nome che è l'equivalente di assegnarlo ad una variabile per riutilizzarla.\n",
    "\n",
    "```javascript\n",
    "NORMALE:\n",
    "    function somma(a,b){\n",
    "        return a + b;\n",
    "    }\n",
    "ANONIMA:\n",
    "    function(a,b){\n",
    "        return a + b;\n",
    "    }\n",
    "FRECCIA:\n",
    "    (a,b) => a + b;\n",
    "```\n",
    "\n",
    "Nel caso di quella normale abbiamo il nome \"somma\" che ci permette di utilizzarla quindi \n",
    "```javascript\n",
    "    -somma = {...}\n",
    "```\n",
    "\n",
    "Negli altri due casi invece abbiamo solo il corpo della funzione quindi un valore vuoto che viene mangiato dal *garbage collector* se non lo utilizziamo o assegniamo ad una variabile.\n",
    "\n",
    "Se scrivo una stringa in questo modo non ha senso , perchè non posso utilizzarla in nessun modo senza il nome.\n",
    "```javascript \n",
    "\"Stringa\";\n",
    "```\n",
    "Lo stesso vale per le funzioni anonime o le arrow function, cosi non ci faccio nulla perchè non posso utilizzarla\n",
    "```javascript\n",
    "(a,b) => a + b;\n",
    "```\n",
    "\n",
    "Una funzione assegnata ad una variabile si puo utilizzare esattamente come si utilizzano le funzioni normali solo che il nome è quello della variabile a cui abbiamo assegnato.\n",
    "```javascript\n",
    "let responseSomma = funcArrow2(3,4); // risultato:  7\n",
    "```"
   ]
  },
  {
   "cell_type": "markdown",
   "id": "3a2ff0e1",
   "metadata": {},
   "source": [
    "---"
   ]
  },
  {
   "cell_type": "markdown",
   "id": "cf9778cd",
   "metadata": {},
   "source": [
    "#### ***<span style=\"color:#D19A66;\">CALLBACK<span>***\n",
    "\n",
    "Ora che sappiamo che le funzioni possono essere assegnate come valori a delle variabili parliamo di ***CALLBACK*** ovvero le funzioni che sono passate come parametri ad altre funzioni."
   ]
  },
  {
   "cell_type": "code",
   "execution_count": null,
   "id": "80034bb2",
   "metadata": {},
   "outputs": [],
   "source": [
    "function funcCallBack(array, callback){\n",
    "    /*\n",
    "        Come puoi vedere dal console log sotto, sia array che callback prendono i valori passati, come tutti gli altri parametri\n",
    "    */\n",
    "    // console.log(`Il valore dell'array: \\n${array}\\n--------\\nIl valore della callback:\\n${callback}`) //!!TOGLI IL COMMENTO!!//\n",
    "    let response = [];\n",
    "    let first = true;\n",
    "    for(let elemento of array){\n",
    "        let responseCallback = callback(elemento); //essendo di tipo function possiamo eseguirla, come tutte le altre funzioni\n",
    "        // console.log(first ? `Stampiamo i valori della callback del primo giro del ciclo for:\\nValori della callback: \\n-parametro (elemento): ${elemento} \\nvalore restituito: ${responseCallback}` : \"\"); //!!TOGLI IL COMMENTO!!//\n",
    "        first = false;\n",
    "        response.push(responseCallback) //essendo una function (callback) puo restituire dei valor, come tutte le altre funzioni\n",
    "    }\n",
    "    return response;\n",
    "}\n",
    "\n",
    "let responseCallback = funcCallBack([\"Stringa\",\"TRINGA\",\"RENGA\",\"ReNnA\"], (stringa) => stringa.toLowerCase());\n",
    "\n",
    "console.log(`Il risultato di funcCallBack è: \\n${responseCallback}`) "
   ]
  },
  {
   "cell_type": "markdown",
   "id": "8e35854c",
   "metadata": {},
   "source": [
    "Il valore dei parametri\n",
    "```javascript\n",
    "array:\n",
    "    -valore: [\"Stringa\",\"TRINGA\",\"RENGA\",\"ReNnA\"]\n",
    "    -tipo: array\n",
    "callback:\n",
    "    -valore: (stringa) => stringa.toLowerCase()\n",
    "    -tipo: function\n",
    "```\n",
    "\n",
    "Ricorda che una ***CALLBACK*** è semplicemente un parametro di una funzione a cui viene passato come valore un'altra funzione.\n",
    "\n",
    "Non è importante che venga scritta direttamente una ***funzione anonima*** o una ***arrow function*** dentro le tonde.\n",
    "\n",
    "<u><span style=\"color: red\">***Quello è solo un valore❗❗❗***</span></u> Esattamente come lo è una stringa o un numero"
   ]
  },
  {
   "cell_type": "code",
   "execution_count": null,
   "id": "3ce65aa8",
   "metadata": {},
   "outputs": [],
   "source": [
    "//Prendiamo questa funzione come esempio\n",
    "function example(stringa){\n",
    "    return stringa.toLowerCase();\n",
    "}\n",
    "//Una semplice funzione che accetta una stringa come parametro e restituisce la stessa stringa in minuscolo\n",
    "\n",
    "let responseStringEx = example(\"NICK\"); // Possiamo passare direttamente un valore di tipo STRINGA come parametro\n",
    "\n",
    "let stringaParam = \"NICK\"; // ma possiamo anche avere una variabile che contiene una stringa...\n",
    "let responseStringEx2 = example(stringaParam); //...e passare quella variabile come parametro\n",
    "\n",
    "\n",
    "console.log(`Valore passato direttamente: \\n${responseStringEx} \\n-----------------\\n\\nValore passato tramite variabile: \\n${responseStringEx2}`) "
   ]
  },
  {
   "cell_type": "markdown",
   "id": "2b878f5d",
   "metadata": {},
   "source": [
    "<span style=\"color: red\">***Il risultato NON cambia❗❗❗***</span>\n",
    "\n",
    "da una parte abbiamo passato il valore direttamente..\n",
    "\n",
    "..dall'altra gli abbiamo passato una variabile che contiene quel valore\n",
    "\n",
    "Questo discorso puo essere applicato su tutti i tipi di valore, comprese le *FUNZIONI*"
   ]
  },
  {
   "cell_type": "code",
   "execution_count": null,
   "id": "36b39bcf",
   "metadata": {},
   "outputs": [],
   "source": [
    "//CALLBACK passata direttamente come valore\n",
    "funcCallBack([\"STRINGA\"], (stringa) => stringa.toLowerCase());\n",
    "\n",
    "//CALLBACK passata tramite una variabile\n",
    "let callbackParam = (stringa) => stringa.toLowerCase();\n",
    "funcCallBack([\"STRINGA\"], callbackParam);\n",
    "\n",
    "/*\n",
    "    Ricorda che anche le funzioni normali (quelle con il nome) sono delle \"variabili\".\n",
    "\n",
    "    Quindi possiamo passargli anche direttamente quelle\n",
    "*/\n",
    "\n",
    "//CALLBACK passata tramite funzione normale\n",
    "funcCallBack([\"STRINGA\"], example); "
   ]
  },
  {
   "cell_type": "markdown",
   "id": "d38b0ffa",
   "metadata": {},
   "source": [
    "---"
   ]
  },
  {
   "cell_type": "markdown",
   "id": "8f03941d",
   "metadata": {},
   "source": [
    "#### ***<span style=\"color:#D19A66;\">FUNZIONI OGGETTO<span>***"
   ]
  },
  {
   "cell_type": "code",
   "execution_count": null,
   "id": "91313db3",
   "metadata": {},
   "outputs": [],
   "source": [
    "function funcLikeObject(param){\n",
    "    funcLikeObject.count++ //Sto incrementando una variabile interna creata da me ogni volta che viene richiamata la funzione\n",
    "}"
   ]
  },
  {
   "cell_type": "markdown",
   "id": "ce27cfd1",
   "metadata": {},
   "source": [
    "Prendiamo come esempio la funzione appena dichiarata.\n",
    "\n",
    "Abbiamo detto che le funzioni, se non eseguite (quindi richiamate senza le parentesi tonde) sono dei valori. (function)\n",
    "\n",
    "Il tipo di dato \"function\" in Javascript ha delle cose in comune con gli Object.\n",
    "\n",
    "Come la possibilità di creare delle variabili interne.\n",
    "\n",
    "---\n",
    "📖 Creiamo una variabile di tipo stringa dentro l'oggetto funzione."
   ]
  },
  {
   "cell_type": "code",
   "execution_count": null,
   "id": "d9170ab8",
   "metadata": {},
   "outputs": [],
   "source": [
    "funcLikeObject.variabile = \"Sono una variabile di tipo stringa appena creata\"; \n",
    "\n",
    "console.log(funcLikeObject.variabile); "
   ]
  },
  {
   "cell_type": "markdown",
   "id": "7e309ecf",
   "metadata": {},
   "source": [
    "questo ci permette di avere delle informazioni personalizzate sulle funzioni sempre a disposizione come per esempio il numero di volte che sono state eseguite"
   ]
  },
  {
   "cell_type": "code",
   "execution_count": null,
   "id": "0187a707",
   "metadata": {},
   "outputs": [],
   "source": [
    "funcLikeObject.count = 0;\n",
    "\n",
    "funcLikeObject();\n",
    "funcLikeObject();\n",
    "funcLikeObject();\n",
    "\n",
    "console.log(`La funzione funcLikeObject è stata richiamata: ${funcLikeObject.count}`); //!!SCOMMENTAMI!!"
   ]
  },
  {
   "cell_type": "markdown",
   "id": "0c3fb41a",
   "metadata": {},
   "source": [
    "📖Le funzioni hanno anche una serie di property predefinite che ci permettono di conoscere alcune informazioni.\n",
    "\n",
    "Facciamo qualche esempio:\n",
    "```javascript\n",
    "funcLikeObject.length; //Il numero dei parametri che accetta\n",
    "funcLikeObject.name;   //Il nome della funzione (funcLikeObject)\n",
    "funcLikeObject.arguments; //I valori passati come parametri (va richiamata DENTRO la funzione, sennò è sempre null)\n",
    "```\n",
    "---"
   ]
  },
  {
   "cell_type": "markdown",
   "id": "9e38a1a3",
   "metadata": {},
   "source": [
    "#### ***<span style=\"color:#D19A66;\">RICAPITOLANDO🧠<span>***\n",
    "\n",
    "##### LE FUNZIONI.. 📖\n",
    "<div style=\"\n",
    "    background-color: #e0f7fa; \n",
    "    border-left: 6px solid #00acc1; \n",
    "    padding: 16px; \n",
    "    border-radius: 8px; \n",
    "    font-family: 'Segoe UI', Tahoma, Geneva, Verdana, sans-serif;\n",
    "    color: #00363a;\n",
    "\">\n",
    "\n",
    "1. **Sono porzioni di codice riutilizzabili, mirate a risolvere un determinato problema** \n",
    "\n",
    "2. **Possono accettare dei parametri** \n",
    "\n",
    "3. **Possono restituire un valore (undefined se non c'è il return)**\n",
    "\n",
    "4. **Sono dei valori (function fa parte delle tipologie di dato disponibili)**\n",
    "\n",
    "5. **Possono essere assegnate a variabili (senza parentesi tonde) o eseguite (con parentesi tonde)**\n",
    "\n",
    "6. **Ne abbiamo 3 tipi: normali(con nome), anonime, freccia**\n",
    "\n",
    "7. **Le funzioni anonime e freccia, se non assegnate ad una variabile o eseguite, sono inutili (garbage collector)**\n",
    "\n",
    "8. **Le funzioni passate come parametro ad un'altra funzione sono chiamate CALLBACK**\n",
    "\n",
    "9. **Le CALLBACK sono parametri (quindi variabili) che contengono una funzioni, quindi puo essere eguita**\n",
    "\n",
    "10. **QUALUNQUE valore di tipo funzione puo essere assegnato ad una callback. Sia passato direttamente tra le tonde, sia assegnato ad una variabile e poi passato, sia una funzione con il nome.**\n",
    "\n",
    "11. **Sono simili a degli oggetti, quindi possiamo creare delle proprietà personalizzate o accederne alcune preimpostate che rivelano alcune informazioni riguardanti la stessa.**\n",
    "</div>"
   ]
  }
 ],
 "metadata": {
  "kernelspec": {
   "display_name": "JavaScript (Node.js)",
   "language": "javascript",
   "name": "javascript"
  },
  "language_info": {
   "file_extension": ".js",
   "mimetype": "application/javascript",
   "name": "javascript",
   "version": "20.18.0"
  }
 },
 "nbformat": 4,
 "nbformat_minor": 5
}
